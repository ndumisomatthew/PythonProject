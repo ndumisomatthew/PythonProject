{
 "cells": [
  {
   "cell_type": "markdown",
   "id": "864a5bbd",
   "metadata": {},
   "source": [
    "# Movie Data-Book API"
   ]
  },
  {
   "cell_type": "markdown",
   "id": "b234d07e",
   "metadata": {},
   "source": [
    "## What is an API"
   ]
  },
  {
   "cell_type": "markdown",
   "id": "50addca4",
   "metadata": {},
   "source": [
    "Application Programming Interfaces (API) are mechanisms that allow for two software components to communicate using a set of definitions and protocols. API functionality is explained in terms of client and server, where the application sending a request acts as a client and the response application acts as the server (Amazon Web Services, 2023). \n",
    "\n",
    "API's are able to function in four ways based on when and why they were created: SOAP APIs, Wbsocket APIs, RPC APIs, REST APIs\n",
    "\n",
    "For this project we will look at REST APIs. REST(Representational State Transfer) APIs are the most popular and functional APIs available. The REST  defines a set of functions such as (GET, PUT, DELETE, etc.) that clients may use in order to access server data exchanged using \"HTTP\". The main feature of REST API is statelessness, meaning that servers don't save client data between requests (Amazon Web Services, 2023). "
   ]
  },
  {
   "cell_type": "markdown",
   "id": "883fc955",
   "metadata": {},
   "source": [
    "## How to interact with APIs using Python "
   ]
  },
  {
   "cell_type": "markdown",
   "id": "25663ab8",
   "metadata": {},
   "source": [
    "Prior to interaction all APIs need to be secured through proper authenticarion and and monitoring, with the two ways of securing a REST API being Authentication tokens and API keys(Amazon Web Services, 2023).\n",
    "1. Authentication Tokens: used to authorize users to make the API call. These check that the users are whom they claim to be. \n",
    "2. API Keys: API keys verify the program or application making the call. They identify the application and ensure it has the access rights required to make the API call. API keys despite being less secure than tokens, allow API monitoring in order to gather data on usage.\n",
    "\n",
    "Post obtaining the API key a program needs ensure they have installed the \"requests\" library in order to send HTTP requests. The request library abstracts away the complexities of making HTTP requests (Schoonvel. J, 2012). API interactions in python utilise functions such as GET, POST,PUT, PATCH, etc. which allow for interactioo between the client and server.  \n"
   ]
  },
  {
   "cell_type": "markdown",
   "id": "92ed636a",
   "metadata": {},
   "source": [
    "## Project Description"
   ]
  },
  {
   "cell_type": "markdown",
   "id": "5131f748",
   "metadata": {},
   "source": [
    "The movie almanac is a program designed to allow the user to search and find information on their favourite cinemaric peice such as movies, shows, documentaries and other forms of published film. The program uses the omdb API to retrieve informations on the user's desired title and presents it, then stores the search in a text file.The progam build uses a variety of Python Libraries and functions to allow the user to interact with it such as JSON, Requests and Pathlib. "
   ]
  },
  {
   "cell_type": "code",
   "execution_count": null,
   "id": "a895e4ab",
   "metadata": {},
   "outputs": [],
   "source": [
    "!pip install omdb"
   ]
  },
  {
   "cell_type": "markdown",
   "id": "360deb0c",
   "metadata": {},
   "source": [
    "## Program Code"
   ]
  },
  {
   "cell_type": "code",
   "execution_count": 3,
   "id": "078225b5",
   "metadata": {},
   "outputs": [],
   "source": [
    "#Function definitions \n",
    "import sys\n",
    "import requests\n",
    "import omdb \n",
    "import pandas as pd\n",
    "import pathlib\n",
    "import json\n",
    "my_key= 'c0246b1a'\n",
    "omdb.set_default('apikey','c0246b1a')\n",
    "\n",
    "def get_by_title(name): #broad searcher, must go into extensive detial \n",
    "    movie_titles = omdb.search(name)\n",
    "    if not movie_titles:\n",
    "        print(\"Sorry :( That title does not exist\")\n",
    "    else:\n",
    "        count = 0\n",
    "        result = movie_titles\n",
    "        print(f\"Here is a list of available titles for your search: '{name}'\\n\")\n",
    "        for lst in movie_titles:\n",
    "            count += 1\n",
    "            print(f\"{count}. {lst['title']} ({lst['year']})\")#for \n",
    "        try:\n",
    "            user_index1 = int(input(\"Which movie are you looking for? Select by choosing the correct number: \"))\n",
    "        except ValueError:\n",
    "            print(\"Please ensure you input an integer (number) below.\")\n",
    "            user_index1 = int(input(\"Corresponding title number: \"))\n",
    "        final_title = user_index1 - 1\n",
    "        try:\n",
    "            title_info = movie_titles[final_title]\n",
    "        except IndexError:\n",
    "            print(\"Your number is outside the range, please enter a number in the range below.\")\n",
    "            user_index1 = int(input(\"Your desired title's number: \"))\n",
    "            final_title = user_index1 - 1\n",
    "            title_info = movie_titles[final_title] #assigning an indexing of the json output \n",
    "        selected_info = title_info\n",
    "        title_finder = \"title\"\n",
    "        if title_finder in selected_info.keys():\n",
    "            title = selected_info[title_finder]\n",
    "        output_info = omdb.title(title) #request to the api \n",
    "        print(\"Your desired title information:\\n\")\n",
    "        for name in title:\n",
    "            my_file=open(\"user_movies.txt\",'w')#needed to open and write to the text file I'll use in the search_history()\n",
    "            name=title \n",
    "            my_file.write(name) \n",
    "            \n",
    "        #As Pandas Output:\n",
    "        #output_infoDF=pd.DataFrame(output_info)\n",
    "        #print(output_infoDF.head())\n",
    "        \n",
    "        #As Json Output:\n",
    "\n",
    "        for key, value in output_info.items():\n",
    "            print(key, \":\", value)\n",
    "        lines = output_info\n",
    "        json_info = json.dumps(lines)  \n",
    "        info_json = json.loads(json_info)\n",
    "        tytle = 'Title'\n",
    "        if tytle in info_json.keys():\n",
    "            text_title = info_json[tytle] #try use it for history function def and get as DataFrame \n",
    "            \n",
    "\n",
    "def history():\n",
    "    if my_file.exists():\n",
    "        fhand=open(\"user_movies.txt\")\n",
    "        tytle=fhand.read()\n",
    "        print(f\"Your last search was '{tytle}'\")\n",
    "        prompt=input(\"Would you like to get more information on your last search (yes/no)\")\n",
    "        for items in tytle:\n",
    "            if prompt=='yes':\n",
    "                print(\"\")\n",
    "                #print(tytle)\n",
    "                print(\"\")\n",
    "                p_output=omdb.title(tytle)\n",
    "                for key, value in p_output.items():\n",
    "                    print(key, \":\", value)\n",
    "            else: \n",
    "                if prompt == 'no':\n",
    "                    print(\"\")\n",
    "    else:\n",
    "        print(\":/ You haven't searched anything yet\")"
   ]
  },
  {
   "cell_type": "markdown",
   "id": "f8236bfd",
   "metadata": {},
   "source": [
    "## Program Code (Shortened) - Final"
   ]
  },
  {
   "cell_type": "code",
   "execution_count": 6,
   "id": "a427230c",
   "metadata": {
    "scrolled": true
   },
   "outputs": [
    {
     "name": "stdout",
     "output_type": "stream",
     "text": [
      "Welcome To The Movie Almanac Programme\n",
      "\n",
      "Your Previous Searches: \n",
      "\n",
      "Shottas\n",
      "\n",
      "Option 1: Press 1 if you'd like search by a specific title\n",
      "Option 2: Press 2 if you'd like to view historic seach data\n",
      "Option 3: Press 'x'to quit \n",
      "Your option:1\n",
      "What would you like to search today: Bad Boys\n",
      "Here is a list of available titles for your search: 'Bad Boys'\n",
      "\n",
      "1. Bad Boys (1995)\n",
      "2. Bad Boys II (2003)\n",
      "3. Bad Boys for Life (2020)\n",
      "4. Bad Boys: Ride or Die (2024)\n",
      "5. Bad Boys (1983)\n",
      "6. We Love Bad Boys (2024)\n",
      "7. The Bad Boys of Saturday Night Live (1998)\n",
      "8. For Bad Boys Only (2000)\n",
      "9. Bad Boys (1961)\n",
      "10. Boys on Film 7: Bad Romance (2011)\n",
      "Which movie are you looking for? Select by choosing the correct number: 2\n",
      "Your desired title information:\n",
      "\n",
      "title : Bad Boys II\n",
      "year : 2003\n",
      "rated : R\n",
      "released : 18 Jul 2003\n",
      "runtime : 147 min\n",
      "genre : Action, Comedy, Crime\n",
      "director : Michael Bay\n",
      "writer : George Gallo, Marianne Wibberley, Cormac Wibberley\n",
      "actors : Will Smith, Martin Lawrence, Gabrielle Union\n",
      "plot : Two loose-cannon narcotics cops investigate the flow of Ecstasy into Florida from a Cuban drug cartel.\n",
      "language : English, Spanish, Russian\n",
      "country : United States\n",
      "awards : 5 wins & 13 nominations\n",
      "poster : https://m.media-amazon.com/images/M/MV5BZmU4NzVkZjEtZmQxMi00ZDY5LWI3ZDYtMWRmZjE5YmYwZjQzXkEyXkFqcGdeQXVyMTQxNzMzNDI@._V1_SX300.jpg\n",
      "ratings : [{'source': 'Internet Movie Database', 'value': '6.6/10'}, {'source': 'Rotten Tomatoes', 'value': '24%'}, {'source': 'Metacritic', 'value': '38/100'}]\n",
      "metascore : 38\n",
      "imdb_rating : 6.6\n",
      "imdb_votes : 272,465\n",
      "imdb_id : tt0172156\n",
      "type : movie\n",
      "dvd : N/A\n",
      "box_office : $138,608,444\n",
      "production : N/A\n",
      "website : N/A\n",
      "response : True\n",
      "How would you rate your experience\n",
      "\n",
      "\n",
      "\n"
     ]
    },
    {
     "data": {
      "application/vnd.jupyter.widget-view+json": {
       "model_id": "d501383efd78497b896c0e60ed9c4d1a",
       "version_major": 2,
       "version_minor": 0
      },
      "text/plain": [
       "IntSlider(value=0, description='Rating:', max=10)"
      ]
     },
     "metadata": {},
     "output_type": "display_data"
    }
   ],
   "source": [
    "print(\"Welcome To The Movie Almanac Programme\\n\")\n",
    "my_file=pathlib.Path('user_movies.txt')\n",
    "if my_file.exists():\n",
    "    fhand=open('user_movies.txt','r')\n",
    "    print(\"Your Previous Searches: \\n\")\n",
    "    print(fhand.read())\n",
    "else:\n",
    "    print('No search history available\\n ')\n",
    "print(\"\")\n",
    "print(\"Option 1: Press 1 if you'd like search by a specific title\\nOption 2: Press 2 if you'd like to view historic seach data\\nOption 3: Press 'x'to quit \")\n",
    "\n",
    "user_action=(input(\"Your option:\"))\n",
    "\n",
    "if user_action == '1':\n",
    "    get_by_title(input('What would you like to search today: '))\n",
    "elif user_action== '2':\n",
    "    history()\n",
    "else: \n",
    "    if user_action=='x':\n",
    "        print(\"You chose to stop the end the progam\\nHope to see you soon :)\")\n",
    "        \n",
    "final_prompt=print(\"How would you rate your experience\\n\")\n",
    "import ipywidgets as widgets\n",
    "print('\\n')\n",
    "widgets.IntSlider(\n",
    "    min=0,\n",
    "    max=10,\n",
    "    step=1,\n",
    "    description=\"Rating:\",\n",
    "    value=0\n",
    ")"
   ]
  },
  {
   "cell_type": "code",
   "execution_count": null,
   "id": "c8486a76",
   "metadata": {},
   "outputs": [],
   "source": []
  },
  {
   "cell_type": "code",
   "execution_count": null,
   "id": "23019f88",
   "metadata": {},
   "outputs": [],
   "source": []
  },
  {
   "cell_type": "code",
   "execution_count": null,
   "id": "f6fe7c41",
   "metadata": {},
   "outputs": [],
   "source": [
    "\n"
   ]
  },
  {
   "cell_type": "markdown",
   "id": "f73a62f3",
   "metadata": {},
   "source": [
    "## Explanation of code segments "
   ]
  },
  {
   "cell_type": "markdown",
   "id": "6710c2b8",
   "metadata": {},
   "source": [
    "### Explaination 1:"
   ]
  },
  {
   "cell_type": "code",
   "execution_count": null,
   "id": "cfccc4e2",
   "metadata": {},
   "outputs": [],
   "source": [
    "my_file=pathlib.Path('user_movies.txt')\n",
    "if my_file.exists():\n",
    "    fhand=open('user_movies.txt','r')\n",
    "    print(fhand.read())\n",
    "else:\n",
    "    print('No search history available\\n ')"
   ]
  },
  {
   "cell_type": "markdown",
   "id": "32865620",
   "metadata": {},
   "source": [
    "In the code above we are simply checking if the file where we want to store historic searches exists prior to creation. This code section will be used in conjunction with the **search_history( )** function which is option 3 in order to allow users view what they searched and access the data. "
   ]
  },
  {
   "cell_type": "markdown",
   "id": "388be82a",
   "metadata": {},
   "source": [
    "### Explaination 2"
   ]
  },
  {
   "cell_type": "code",
   "execution_count": null,
   "id": "93a221db",
   "metadata": {},
   "outputs": [],
   "source": [
    "#ELSE STATEMENT USED IN THE DEFINITION OF THE get_by_title(name): FUNCTION\n",
    "    \n",
    "    else:\n",
    "        count = 0\n",
    "        result = movie_titles\n",
    "        print(f\"Here is a list of available titles for your search: '{name}'\\n\")\n",
    "        for lst in movie_titles:\n",
    "            count += 1\n",
    "            print(f\"{count}. {lst['title']} ({lst['year']})\")\n",
    "        try:\n",
    "            user_index1 = int(input(\"Which movie are you looking for? Select by choosing the correct number: \"))\n",
    "        except ValueError:\n",
    "            print(\"Please ensure you input an integer (number) below.\")\n",
    "            user_index1 = int(input(\"Corresponding title number: \"))\n",
    "        final_title = user_index1 - 1\n",
    "        try:\n",
    "            title_info = movie_titles[final_title]\n",
    "        except IndexError:\n",
    "            print(\"Your number is outside the range, please enter a number in the range below.\")\n",
    "            user_index1 = int(input(\"Your desired title's number: \"))\n",
    "            final_title = user_index1 - 1\n",
    "            title_info = movie_titles[final_title]\n",
    "        selected_info = title_info\n",
    "        title_finder = \"title\"\n",
    "        if title_finder in selected_info.keys():\n",
    "            title = selected_info[title_finder]\n",
    "        output_info = omdb.title(title)\n",
    "        print(\"Your desired title information:\\n\")"
   ]
  },
  {
   "cell_type": "markdown",
   "id": "79d9092c",
   "metadata": {},
   "source": [
    "In the first segment of the code above a count is equated to zero in order to keep of the number of movies being searched (will be used for the storing). This else statement runs when the user's input is an existing title where the information is available on omdb's database. The for loop I used is so I can iterate through every title and then count them so that I'm able to generate the list where the user will later select which number(index) they're looking for (the movie they want i.e. Star Wars has multiple episodes). The list I'm able to display using the **print(f\"{count}.lst['title']} ({lst['year']})')** which will give me the name and year of the movie release in order for the user to select which title they had in mind. The user is able to make that selection via an input (user_index1) which I have accounted for errors for using a try and except to curb agaisnt a full \"crash\" in the event the user enters something besides an integer. The final_title assignment is where I faced a struggle as when I ran it without the subtracting the 1 I would get stuck. However through the help of a friend in Firga I learnt that the -1 is neccesary becuase the list starts at 0 and the count starts from 1 so subtracting the 1 balances the code out. I then added another try and expect to curb an event where the user inputs a value outside the available list range. With the user's desired index giving a final_title value I then assigned title_info with movie_title[final_title] **(title_info=movie_title[final_title])**  which will be the selected movie's inforamtion for the user's desired movie. I then needed to retrieve the information for the title so I defined title_finder and used an if statement to check that if the title is in the movie information using selected_info.key():to parse through and grab the title inside the dictionary/json output and then taking that exact title and assigning it title so I can use the omdb.title() to search for the exact letter by letter title and then print it out to my user using the assigned variable I named output_info (which gives the information desired by the user) instead of them typing the full name in from the get go. "
   ]
  },
  {
   "cell_type": "markdown",
   "id": "53e6747d",
   "metadata": {},
   "source": [
    "### Explaination 3"
   ]
  },
  {
   "cell_type": "code",
   "execution_count": null,
   "id": "d86c639f",
   "metadata": {},
   "outputs": [],
   "source": [
    "#Hiostory saving code \n",
    "for name in title:\n",
    "            my_file=open(\"user_movies.txt\",'w')#needed to open and write to the text file I'll use in the search_history()\n",
    "            name=title \n",
    "            my_file.write(name) "
   ]
  },
  {
   "cell_type": "markdown",
   "id": "7bf135fa",
   "metadata": {},
   "source": [
    "The code above is an addition I made latr to the get_by_title() function as a result of me figuring out a way to resolve the issue of my initial code being unable to stoe the user's previous search and return a prompt to search allow for a last search return. The code uses a for loop to iterate through the initial if statement and \"grab\" the title variable. In the loop I open the created text file using the open function in write mode in order to the use the name assignment to then write in the name of the specific title in which the user is looking for. "
   ]
  },
  {
   "cell_type": "markdown",
   "id": "249dab58",
   "metadata": {},
   "source": [
    "### Explaination 4"
   ]
  },
  {
   "cell_type": "code",
   "execution_count": 5,
   "id": "d452d376",
   "metadata": {},
   "outputs": [],
   "source": [
    "# Function definition to call for the user's previous search \n",
    "def history():\n",
    "    if my_file.exists():\n",
    "        fhand=open(\"user_movies.txt\")\n",
    "        tytle=fhand.read()\n",
    "        print(f\"Your last search was '{tytle}'\")\n",
    "        prompt=input(\"Would you like to get more information on your last search (yes/no)\")\n",
    "        for items in tytle:\n",
    "            if prompt=='yes':\n",
    "                print(\"\")\n",
    "                #print(tytle)\n",
    "                print(\"\") # for some spacing for viewing reasons\n",
    "                p_output=omdb.title(tytle)\n",
    "                for key, value in p_output.items():\n",
    "                    print(key, \":\", value)\n",
    "            else: \n",
    "                if prompt == 'no':\n",
    "                    print(\"\")\n",
    "    else:\n",
    "        print(\":/ You haven't searched anything yet\")"
   ]
  },
  {
   "cell_type": "markdown",
   "id": "e40ca15f",
   "metadata": {},
   "source": [
    "The code above is a function definition that will be used in the event a user calls for option 2: Where they will access they're last search title. The code uses an if statement paired with an exist fnction to check whether or not the desired file exists and (this is to account for an empty file that hasn't been made due to no search ever being entered). the code then assigns tytle to open the fhand variable assigned to open the file, then reads the information inside the file. The code then prints the name of the title (file content) using an f format, and then a prompt is run using an input( ) function to ask if the user would like to obtain further information on the title. Using an if statement the programs runs a response to the user's answer of yes/no on whether they'd like more inormation on the title. In the event the user wants more information p_output{omdb.title(tytle)}  is assigned with the omdb.title( ) api function which will take the title name (tytle) and search for that specific title and have it presented to the user by running a for loop to iterate through the JSON (dictionary) output and print the key and value items which will then be presented. "
   ]
  },
  {
   "cell_type": "markdown",
   "id": "118375f6",
   "metadata": {},
   "source": [
    "### Explaination 5"
   ]
  },
  {
   "cell_type": "code",
   "execution_count": null,
   "id": "2b47aa24",
   "metadata": {},
   "outputs": [],
   "source": [
    "print(\"Welcome To The Movie Almanac Programme\\n\")\n",
    "my_file=pathlib.Path('user_movies.txt')\n",
    "if my_file.exists():\n",
    "    fhand=open('user_movies.txt','r')\n",
    "    print(\"Your Previous Searches: \\n\")\n",
    "    print(fhand.read())\n",
    "else:\n",
    "    print('No search history available\\n ')\n",
    "print(\"\")\n",
    "print(\"Option 1: Press 1 if you'd like search by a specific title\\nOption 2: Press 2 if you'd like to view historic seach data\\nOption 3: Press 'x'to quit \")\n",
    "\n",
    "user_action=(input(\"Your option:\"))\n",
    "\n",
    "if user_action == '1':\n",
    "    get_by_title(input('What would you like to search today: '))\n",
    "elif user_action== '2':\n",
    "    history()\n",
    "else: \n",
    "    if user_action=='x':\n",
    "        print(\"You chose to stop the end the progam\\nHope to see you soon :)\")"
   ]
  },
  {
   "cell_type": "markdown",
   "id": "d467adcf",
   "metadata": {},
   "source": [
    "The code above is the shorted runner for the movie alamanc program in the second line I create a file assigned to my_file using Paths from the pathlib filesystem path in attempt to create a file path to store each search in and have opened later. the If statement then ends with the else statement for the event in which no file exists due to searches ever being run. The options are then printed to provide the user wit insight on what the program can do given each input available (i.e. Search a new title, view and old search, or end the programme). A prompt to the user is then given to allow for them to make a decision. After that their action is then met with a conditional nested if statement where the code will run a title and nformation search if the user picks option 1, a historic search if the user picks option 2, and end if they by printing a goodbye statement if they choose option 3. \n"
   ]
  },
  {
   "cell_type": "markdown",
   "id": "f749f4f4",
   "metadata": {},
   "source": [
    "### Explaination 3"
   ]
  },
  {
   "cell_type": "code",
   "execution_count": 8,
   "id": "f91664f6",
   "metadata": {},
   "outputs": [
    {
     "name": "stdout",
     "output_type": "stream",
     "text": [
      "How would you rate your experience\n",
      "\n",
      "\n",
      "\n"
     ]
    },
    {
     "data": {
      "application/vnd.jupyter.widget-view+json": {
       "model_id": "7c948f98110d4a34a6e4d5cb93fa0acc",
       "version_major": 2,
       "version_minor": 0
      },
      "text/plain": [
       "IntSlider(value=0, description='Rating:', max=10)"
      ]
     },
     "metadata": {},
     "output_type": "display_data"
    }
   ],
   "source": [
    "final_prompt=print(\"How would you rate your experience\\n\")\n",
    "import ipywidgets as widgets\n",
    "print('\\n')\n",
    "widgets.IntSlider(\n",
    "    min=0,\n",
    "    max=10,\n",
    "    step=1,\n",
    "    description=\"Rating:\",\n",
    "    value=0\n",
    ")"
   ]
  },
  {
   "cell_type": "markdown",
   "id": "d21150c4",
   "metadata": {},
   "source": [
    "The final piece of the code is a slider object which asks the user to to rate their experience with the programme from 0-10 using this interactive widget from the ipywidgets standard library."
   ]
  },
  {
   "cell_type": "markdown",
   "id": "619acd4b",
   "metadata": {},
   "source": [
    "# Retrospective"
   ]
  },
  {
   "cell_type": "markdown",
   "id": "4dcf3269",
   "metadata": {},
   "source": [
    "## Documentation of Struggles(Journal)"
   ]
  },
  {
   "cell_type": "markdown",
   "id": "1de9c17d",
   "metadata": {},
   "source": [
    "* Obtaining the OMBD API key proved to be trivial due to the site's UI making it difficult to visually find where to select the free package to use in order to get an API key to progress. \n",
    "* Post obtaining the API key interacting with the API proved to be a challenge as the site provided two links, the first one being a link to make all data requests and the second being a poster link. When checking the status code for the all data link using: \n",
    "\n",
    "        import requests\n",
    "\n",
    "      response= requests. get('http://onmdapi.com/?apikey=   ['c88ee207']&')\n",
    "\n",
    "        print(response.status_code)\n",
    "\n",
    "    the response was a 401 (unauthorised) which was baffling due to the request prompt working with the poster link. My solution was simple: go on YouTube a search for tutorials on how to get it done, I watched the following videos: https://www.youtube.com/watch?v=qbLc5a9jdXo&t=44s, https://youtu.be/E39a7kQfjSg\n",
    "    They were not very helpful so I decided to look at lecture 17 again for angles \n",
    "    After not making progress I discovered I had an invalid API key because I had not activated the key and thus obtained a new key which gave the desired output using Pandas after reading the omdb documentation which I had missed in the project description\n",
    "* After being able to figure out the way to get my desired information in a Pandas dataframe, when requestion more information using the ['imdb_id'] call I was unable to create the dataframe, potentially I can store the information in a csv and then print it. \n",
    "* I set out a new approach where I define a function to search for the movie but the try and except statement was not running the excpect and so that had me stuck, when encountering a situation of a user entering a title that does not exist, my issue was calling a new variable which when run was not assigned instead of re-calling the assigned one I had used in in the try block. The try and except also wouldn't account for the second time being an error by the user and implementing a while loop was difficult given the time constraint and project references \n",
    "* In defining my get_by_title() function I faced the challenge of when assigning for final_title variable as when I ran it without the subtracting the 1 I would get stuck with an output for the wrong title. However through the help of a friend in Firga I learnt that the -1 is neccesary becuase the list starts actually at 0 and the count starts from 1 so subtracting the 1 balances the code out as Python will always start from 0. \n",
    "* Additionally having my data have a final output as a DataFrame in the function was challenging as the data would be messy and not orderly, thus conventionally using the json dumps & loads methods along with some dictionary iteration and indexing was an easier approach for me to use. \n",
    "* One of the bigger challenges I faced was storing the title output that I would get from the get_by_title() function variable the error I would get after running my definition within the definition was that the run code would give me an error stating that the the variable text_title was called before assignment and when I ran it differently assiginig it to stored_info[text_finder] the same error would occur despite me defining both variables within the get_by_title() function. My solution was to try either 1. Store the information without defining a new function within the function or only storing the information later in the second shortened code block. \n",
    "* The historic data function was then resolved by creating a file inside the get_by_name function that allowed for a writing of the text title to the file for later use in the history() function. "
   ]
  },
  {
   "cell_type": "markdown",
   "id": "a163b042",
   "metadata": {},
   "source": [
    "## Possible Improvements "
   ]
  },
  {
   "cell_type": "markdown",
   "id": "ed940b3b",
   "metadata": {},
   "source": [
    "### 1. Shortening Code Definition Using Pandas"
   ]
  },
  {
   "cell_type": "markdown",
   "id": "6abefdc8",
   "metadata": {},
   "source": [
    "Using the definition codes such as get_by_title() as reference, The code was long and thus more time consuming and susceptible to error and mistakes. The code could be refined through using the below disgarded version I had been trying before:"
   ]
  },
  {
   "cell_type": "code",
   "execution_count": 15,
   "id": "f626c9f2",
   "metadata": {},
   "outputs": [],
   "source": [
    "#Non-functional Pandas version \n",
    "def get_by_title_df(name):\n",
    "    movie_titles = omdb.search(name)\n",
    "    if not movie_titles:\n",
    "        print(\":( title does not exist\")\n",
    "    else:\n",
    "        print(f\"Here is a list of available titles for your search for '{name}':\\n\")\n",
    "        result_df = pd.DataFrame(movie_titles)\n",
    "        print(result_df.head())\n",
    "        try:\n",
    "            usr_index = int(input(\"Which movie are you looking for? Select by choosing the correct number: \"))\n",
    "            title_info = movie_titles[usr_index]\n",
    "            title_infoDF = pd.DataFrame(title_info)\n",
    "            print(\"Info as JSON:\\n\", title_info)#is not printing \n",
    "            print(\"Info as DataFrame:\\n\", title_infoDF)#posters in a separate table where links don't work\n",
    "        except ValueError: \n",
    "            print(\"Please ensure you input an integer below.\")\n",
    "            usr_index = int(input(\"Correct index: \"))\n",
    "        except IndexError:\n",
    "            print(\"Your number is outside the range. Please enter a number in the range below.\")\n",
    "            return\n",
    "        details = input(\"Would you like more information about this movie? (Enter 'yes' or 'no'): \").lower()\n",
    "        if details == 'yes':\n",
    "            output_info = title_info['title']\n",
    "            print(f\"Your movie choice is '{output_info}'\")\n",
    "            output_infoDF1 = omdb.search_movie(output_info)\n",
    "            output_infoDF2 = pd.DataFrame(output_infoDF1)\n",
    "            print(output_infoDF2.head())\n",
    "        else:\n",
    "            if details=='no':\n",
    "                print(title_infoDF.head())\n"
   ]
  },
  {
   "cell_type": "markdown",
   "id": "97a32229",
   "metadata": {},
   "source": [
    "The code above is a Panda version in which I attempted in the early phases of the project, however itdoes not run optimally and other versions written prior to the final json version active in this project would give repetative and unordered DataFrames which ended up being unreadable despite them being generated from json output. I believe a version of this project using PANDAS as a main display such as the those seen in lectures 20 & 21 would be a better ecperience for the user, allowing for a cleaner look and using more conditions better search filters. \n"
   ]
  },
  {
   "cell_type": "code",
   "execution_count": 20,
   "id": "5f112946",
   "metadata": {},
   "outputs": [
    {
     "name": "stdout",
     "output_type": "stream",
     "text": [
      "Your desired titlestar wars\n",
      "Here is a list of available titles for your search: 'star wars'\n",
      "\n",
      "1. Star Wars: Episode IV - A New Hope (1977)\n",
      "2. Star Wars: Episode V - The Empire Strikes Back (1980)\n",
      "3. Star Wars: Episode VI - Return of the Jedi (1983)\n",
      "4. Star Wars: Episode VII - The Force Awakens (2015)\n",
      "5. Star Wars: Episode I - The Phantom Menace (1999)\n",
      "6. Star Wars: Episode III - Revenge of the Sith (2005)\n",
      "7. Star Wars: Episode II - Attack of the Clones (2002)\n",
      "8. Rogue One: A Star Wars Story (2016)\n",
      "9. Star Wars: Episode VIII - The Last Jedi (2017)\n",
      "10. Star Wars: Episode IX - The Rise of Skywalker (2019)\n",
      "Which movie are you looking for? Select by choosing the correct number: 6\n",
      "Your desired title information:\n",
      "\n"
     ]
    },
    {
     "data": {
      "text/html": [
       "<div>\n",
       "<style scoped>\n",
       "    .dataframe tbody tr th:only-of-type {\n",
       "        vertical-align: middle;\n",
       "    }\n",
       "\n",
       "    .dataframe tbody tr th {\n",
       "        vertical-align: top;\n",
       "    }\n",
       "\n",
       "    .dataframe thead th {\n",
       "        text-align: right;\n",
       "    }\n",
       "</style>\n",
       "<table border=\"1\" class=\"dataframe\">\n",
       "  <thead>\n",
       "    <tr style=\"text-align: right;\">\n",
       "      <th></th>\n",
       "      <th>title</th>\n",
       "      <th>year</th>\n",
       "      <th>rated</th>\n",
       "      <th>released</th>\n",
       "      <th>runtime</th>\n",
       "      <th>genre</th>\n",
       "      <th>director</th>\n",
       "      <th>writer</th>\n",
       "      <th>actors</th>\n",
       "      <th>plot</th>\n",
       "      <th>...</th>\n",
       "      <th>metascore</th>\n",
       "      <th>imdb_rating</th>\n",
       "      <th>imdb_votes</th>\n",
       "      <th>imdb_id</th>\n",
       "      <th>type</th>\n",
       "      <th>dvd</th>\n",
       "      <th>box_office</th>\n",
       "      <th>production</th>\n",
       "      <th>website</th>\n",
       "      <th>response</th>\n",
       "    </tr>\n",
       "  </thead>\n",
       "  <tbody>\n",
       "    <tr>\n",
       "      <th>0</th>\n",
       "      <td>Star Wars: Episode III - Revenge of the Sith</td>\n",
       "      <td>2005</td>\n",
       "      <td>PG-13</td>\n",
       "      <td>19 May 2005</td>\n",
       "      <td>140 min</td>\n",
       "      <td>Action, Adventure, Fantasy</td>\n",
       "      <td>George Lucas</td>\n",
       "      <td>George Lucas, John Ostrander, Jan Duursema</td>\n",
       "      <td>Hayden Christensen, Natalie Portman, Ewan McGr...</td>\n",
       "      <td>Three years into the Clone Wars, Obi-Wan pursu...</td>\n",
       "      <td>...</td>\n",
       "      <td>68</td>\n",
       "      <td>7.6</td>\n",
       "      <td>808,693</td>\n",
       "      <td>tt0121766</td>\n",
       "      <td>movie</td>\n",
       "      <td>01 Nov 2005</td>\n",
       "      <td>$380,270,577</td>\n",
       "      <td>N/A</td>\n",
       "      <td>N/A</td>\n",
       "      <td>True</td>\n",
       "    </tr>\n",
       "  </tbody>\n",
       "</table>\n",
       "<p>1 rows × 25 columns</p>\n",
       "</div>"
      ],
      "text/plain": [
       "                                          title  year  rated     released  \\\n",
       "0  Star Wars: Episode III - Revenge of the Sith  2005  PG-13  19 May 2005   \n",
       "\n",
       "   runtime                       genre      director  \\\n",
       "0  140 min  Action, Adventure, Fantasy  George Lucas   \n",
       "\n",
       "                                       writer  \\\n",
       "0  George Lucas, John Ostrander, Jan Duursema   \n",
       "\n",
       "                                              actors  \\\n",
       "0  Hayden Christensen, Natalie Portman, Ewan McGr...   \n",
       "\n",
       "                                                plot  ... metascore  \\\n",
       "0  Three years into the Clone Wars, Obi-Wan pursu...  ...        68   \n",
       "\n",
       "  imdb_rating imdb_votes    imdb_id   type          dvd    box_office  \\\n",
       "0         7.6    808,693  tt0121766  movie  01 Nov 2005  $380,270,577   \n",
       "\n",
       "  production website response  \n",
       "0        N/A     N/A     True  \n",
       "\n",
       "[1 rows x 25 columns]"
      ]
     },
     "execution_count": 20,
     "metadata": {},
     "output_type": "execute_result"
    }
   ],
   "source": [
    "        #Code in function should output this:\n",
    "        name=input(\"Your desired title\")\n",
    "        movie_titles = omdb.search(name)\n",
    "        count = 0\n",
    "        result = movie_titles\n",
    "        print(f\"Here is a list of available titles for your search: '{name}'\\n\")\n",
    "        for lst in movie_titles:\n",
    "            count += 1\n",
    "            print(f\"{count}. {lst['title']} ({lst['year']})\")\n",
    "        try:\n",
    "            user_index1 = int(input(\"Which movie are you looking for? Select by choosing the correct number: \"))\n",
    "        except ValueError:\n",
    "            print(\"Please ensure you input an integer (number) below.\")\n",
    "            user_index1 = int(input(\"Corresponding title number: \"))\n",
    "        final_title = user_index1 - 1\n",
    "        try:\n",
    "            title_info = movie_titles[final_title]\n",
    "        except IndexError:\n",
    "            print(\"Your number is outside the range, please enter a number in the range below.\")\n",
    "            user_index1 = int(input(\"Your desired title's number: \"))\n",
    "            final_title = user_index1 - 1\n",
    "            title_info = movie_titles[final_title]\n",
    "        selected_info = title_info\n",
    "        title_finder = \"title\"\n",
    "        if title_finder in selected_info.keys():\n",
    "            title = selected_info[title_finder]\n",
    "        output_info = omdb.title(title)\n",
    "        print(\"Your desired title information:\\n\")\n",
    "        output_infoDF=pd.DataFrame(output_info)\n",
    "        output_infoDF.head(1)"
   ]
  },
  {
   "cell_type": "markdown",
   "id": "adbfd0f0",
   "metadata": {},
   "source": [
    "The code I defined in the function is supposed to have this neater DataFrame output however despite it being functional it is missing a column which is the poster column that has the link and has marks awarded for in the project, and the dataframe does not appear in the same orderly manner as seen above. Thus I chose to opt for the JSON output as it has tha column. "
   ]
  },
  {
   "cell_type": "markdown",
   "id": "35cf2113",
   "metadata": {},
   "source": [
    "### 2. Add-ons"
   ]
  },
  {
   "cell_type": "markdown",
   "id": "a28734b8",
   "metadata": {},
   "source": [
    "Whilst shortening the code and having it despilay as a DataFrame is a large improvement desire, given time I would have liked to add certain add-ons to the progam to enhance it's overall offering. An add-on that would have been ideal would have been the Spotify-API in conjunction with the title search to provide a link to the desired movie title's soundtrack for the user. Additionally using the twitter API would've been ideal to get an output of tweets associated with the user's searched title and have them displayed below the general omdb info"
   ]
  },
  {
   "cell_type": "markdown",
   "id": "adc36ce8",
   "metadata": {},
   "source": [
    "### 3. Simple GUI and Object Oriented Data Objects"
   ]
  },
  {
   "cell_type": "markdown",
   "id": "0af221c9",
   "metadata": {},
   "source": [
    "Having a program with graphical user interface design elements such as a blanck space and search bar for the user input would be a great improvement for the overall aesthetics of the project build. The "
   ]
  },
  {
   "cell_type": "markdown",
   "id": "7753b2b7",
   "metadata": {},
   "source": [
    "### 4. Better Use of the sys Library and use of Regex"
   ]
  },
  {
   "cell_type": "markdown",
   "id": "0815de23",
   "metadata": {},
   "source": [
    "In the code I imported the sys and pathlib libraries however I was unable to optimally ustilising them despite the file creation in the last block for my_file in which I left as redundant code I could have better utilised for storing the user's search history and in the event of the user ending the program. Furthermore using regular expressions I believe I could have shortened my code when interacting with the file and possibly the API. "
   ]
  },
  {
   "cell_type": "markdown",
   "id": "eb37671d",
   "metadata": {},
   "source": [
    "## References "
   ]
  },
  {
   "cell_type": "markdown",
   "id": "f1032ba6",
   "metadata": {},
   "source": [
    "* Amazon Web Services.(2023). What is A RESTful API. AWS. Available [online: https://aws.amazon.com/what-is/restful-api/ ] (Accessed 01 May 2023) \n",
    "* Bastean, J. (2020). Full Stack Web Developer Course: movieDB. Joshua Bastean(YouTube). Available [online: https://youtu.be/prF3O3kPNMs] (Accessed 01 May 2023)\n",
    "* Xavier, P. (2019). Absolute beginners guide to slaying APIs using Python, Medium: Quick Code. Available [online https://medium.com/quick-code/absolute-beginners-guide-to-slaying-apis-using-python-7b380dc82236] (Accessed 07 May 2023)\n",
    "* Grupman, C. (2020). Python API Tutorial: Getting Started with APIs. DataQuest. Available [online: https://www.dataquest.io/blog/python-api-tutorial/] (Accessed 07 May 2023)\n",
    "* Gilland, D. (2013). omdb 0.10.1: Project Description. Pypi. Available [online: https://pypi.org/project/omdb/] (Accessed 07 May 2023)\n",
    "* Campbell, S. 2023. Python Check if File Exists: How to Check if a Directory Exists. Guru99. Available [online: https://www.guru99.com/python-check-if-file-exists.html]. (Accessed 10 May 2023)\n",
    "* Rooney, JW. (2020). HOW TO: JSON and APIs in Python-A Beginners Look. John Watson Rooney.(YouTube). Available [online: https://youtu.be/YgO5ff9sp7A] (Accessed 12 May 2023) \n",
    "* ArjanCodes.(2022).A Deep Dive Into Pathlib And The Magic Behind It. ArjanCodes.(YouTube). Avaialable [online:https://youtu.be/UcKkmwaRbsQ] (Accessed 15 May 2023)\n",
    "* PythonDocumentation.(2001-2023). pathlib-Object-orientated filesystem paths. PythonDocumenttion v3.4. Available [online: https://docs.python.org/3/library/pathlib.html] (Accessed 15 May 2023)\n",
    "* Koen, S. (2019). Bring your Jupyter Notebook to life with interactive widgets: How to create dynamic dashboards using ipywidgets. Medium: Towards Data Science. Available [online: https://towardsdatascience.com/bring-your-jupyter-notebook-to-life-with-interactive-widgets-bc12e03f0916] (Accessed 16 May 2023)\n",
    "* Jalli, A. (2023). How to Write to a Text File in Python. Codingem.Available [online: https://www.codingem.com/learn-python-how-to-write-to-a-file/] (Accessed 16 May 2023)\n",
    "\n",
    "\n",
    "\n",
    "\n",
    "\n"
   ]
  },
  {
   "cell_type": "code",
   "execution_count": null,
   "id": "bc94926a",
   "metadata": {},
   "outputs": [],
   "source": []
  },
  {
   "cell_type": "code",
   "execution_count": null,
   "id": "5b215b36",
   "metadata": {},
   "outputs": [],
   "source": []
  }
 ],
 "metadata": {
  "kernelspec": {
   "display_name": "Python 3 (ipykernel)",
   "language": "python",
   "name": "python3"
  },
  "language_info": {
   "codemirror_mode": {
    "name": "ipython",
    "version": 3
   },
   "file_extension": ".py",
   "mimetype": "text/x-python",
   "name": "python",
   "nbconvert_exporter": "python",
   "pygments_lexer": "ipython3",
   "version": "3.9.13"
  }
 },
 "nbformat": 4,
 "nbformat_minor": 5
}
